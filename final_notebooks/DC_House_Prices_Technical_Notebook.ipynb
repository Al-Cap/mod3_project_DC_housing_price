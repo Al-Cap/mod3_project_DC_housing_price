{
 "cells": [
  {
   "cell_type": "markdown",
   "metadata": {},
   "source": [
    "# Washington DC Housing Market Analysis"
   ]
  },
  {
   "cell_type": "markdown",
   "metadata": {},
   "source": [
    "## Project Goal\n",
    "\n",
    "The goal of this analysis is to explore Washington DC housing market data and gather initial findings. From these findings, we will reconfigure and group the Washington DC regions according to various housing statistics. Upon reconfiguration, these regions will then show similar/same sale prices and other housing characteristics. This analysis will be the basis of future evaluation including building predictive models to predict future home sale price and other notable housing market variables."
   ]
  },
  {
   "cell_type": "markdown",
   "metadata": {},
   "source": [
    "## Summary of Data\n",
    "\n",
    "This analysis uses housing market data from the time period of February 2012 to October 2019, including data for prices (median sale price, percentage of homes sold above list price, percentage of homes that had price drop, etc.), inventory (number of homes on market, new listings, months of supply, etc.), and sales (number of homes sold, median days on market, etc.).\n",
    "\n",
    "#### Data Source: https://www.redfin.com/blog/data-center"
   ]
  },
  {
   "cell_type": "markdown",
   "metadata": {},
   "source": [
    "## Testing and Analysis\n",
    "\n",
    "In order to reconfigure the Washington DC regions, we perform multiple hypothesis testings to ensure the certain regions share the same housing charisteristics. In our project, we forcus on three variables: Median Sale Prices, Homes Sold Month-over-Month, and Inventory Month-over-Month. \n",
    "\n",
    "\n",
    "### Testing Methodology\n",
    "\n",
    "Below are the different tests we ran on our selected Washington DC housing market variables:\n",
    "\n",
    "- Two-sample T test with unequal variance to test the means between two regions\n",
    "\n",
    "https://en.wikipedia.org/wiki/Student%27s_t-test\n",
    "\n",
    "- Kolmogorov Smirnov test to test the distributions between two regions\n",
    "\n",
    "https://en.wikipedia.org/wiki/Kolmogorov%E2%80%93Smirnov_test\n",
    "\n",
    "- Wilcoxon Rank test to test the difference for two population mean ranks from two regions\n",
    "\n",
    "https://en.wikipedia.org/wiki/Wilcoxon_signed-rank_test\n",
    "\n",
    "- Mann-Whitney rank test to test if a random sample from one region is different than another one \n",
    "\n",
    "https://en.wikipedia.org/wiki/Mann%E2%80%93Whitney_U_test\n",
    "\n",
    "- Kendall Tau test to test if two samples are independent\n",
    "\n",
    "https://en.wikipedia.org/wiki/Kendall_rank_correlation_coefficient\n",
    "\n",
    "### Assumptions: \n",
    "\n",
    "Based on time-series dataset we have, there is a relationship over time for each feature. Therefore, pratical speaking, we relax our testing assumption that each sample (region) is indepedent within each sample. In addition, we will confirm if two samples are independent of each other based on Kendall Tau test.\n",
    "\n",
    "\n",
    "### Exhaustive Approach:\n",
    "\n",
    "We perform a pairwise test among 82 regions for each testing methodology. Under the current size, there are over 3,300 comparions (82 choose 2). Therefore, we run the tests in a loop based on the 'combine_list'. In addition, there is a concern for the significance level since we use simultaneous hypothesis testing. To resolve this, we define our significance level $\\alpha = .000001$ within each test. The significance level would be less than .01 since $( 1-\\alpha)^{10000} > .99$\n",
    "\n",
    "### Rationale for the current approach:\n",
    "\n",
    "In practice, it is difficult to test two time series samples given the nature of dependency. Therefore, as mentioned in the assumption section, we relax the independence assumption. In addition, we will use the results from non-parametric Wilcoxon Rank test, Mann-Whitney rank, Kendall Tau test since we don't want to check the normality assumption from Two-sample T test and Kolmogorov Smirnov test doesn't take time factor into consideration. \n",
    "\n",
    "We will combine the test results from all three non-parametric tests to properly decide which two regions should be combined. "
   ]
  },
  {
   "cell_type": "markdown",
   "metadata": {},
   "source": [
    "### Data Import\n",
    "\n",
    "Here, we import all code and libraries from our Exploratory Data Analysis. This takes care of all data imports and data cleaning."
   ]
  },
  {
   "cell_type": "code",
   "execution_count": null,
   "metadata": {},
   "outputs": [],
   "source": [
    "# %run ../python_folder/python_files/DC_House_Prices_EDA"
   ]
  },
  {
   "cell_type": "markdown",
   "metadata": {},
   "source": [
    "## Hypothesis Tests and Visualizations"
   ]
  },
  {
   "cell_type": "markdown",
   "metadata": {},
   "source": [
    "### Median Sale Price Hypothesis Tests\n",
    "\n",
    "We performed the following hypothesis tests on our Median Sale Price dataframe:\n",
    "\n",
    "- Two-sample t-test\n",
    "- Kolmogorov-Smirnov test\n",
    "- Wilcoxon rank test\n",
    "- Mann-Whitney rank test\n",
    "- Kendall-Tau test"
   ]
  },
  {
   "cell_type": "code",
   "execution_count": null,
   "metadata": {},
   "outputs": [],
   "source": [
    "# %load ../python_folder/python_files/Median_Sale_Price_Test"
   ]
  },
  {
   "cell_type": "markdown",
   "metadata": {},
   "source": [
    "#### Median Sale Price P-value Test\n",
    "\n",
    "Using our previously mentioned Exhaustive Approach, since we used simultaneous hypothesis testing, there is a concern over significance level. To resolve this we define our significance level $\\alpha = .000001$ within each hypothesis test.\n",
    "\n",
    "After running a p-value test for our Median Sale Price dataframe, we determined what regions need to be reconfigured."
   ]
  },
  {
   "cell_type": "code",
   "execution_count": null,
   "metadata": {},
   "outputs": [],
   "source": [
    "# %load ../python_folder/python_files/Median_Sale_Price_Test_P-value"
   ]
  },
  {
   "cell_type": "markdown",
   "metadata": {},
   "source": [
    "#### Region Grouping\n",
    "\n",
    "After our initial tests, we grouped 4 regions based on similar housing characteristics and will use these grouped regions in the rest of our analysis. Those four grouped regions include American University Park/Friendship Heights/Tenleytown, Chevy Chase-DC, Foxhall Village, and Southeast Chevy Chase."
   ]
  },
  {
   "cell_type": "code",
   "execution_count": null,
   "metadata": {},
   "outputs": [],
   "source": [
    "# %load ../python_folder/python_files/Median_Sale_Price_Test_Regroup"
   ]
  },
  {
   "cell_type": "markdown",
   "metadata": {},
   "source": [
    "### Median Sale Price Data Visualizations\n",
    "\n",
    "We created a general plot of the first 8 regions in our Median Sale Price dataframe to examine Median Sale Price from February 2012 to October 2019. In this plot, we observe that visually we can see some regions have very similar Median Sale Prices."
   ]
  },
  {
   "cell_type": "code",
   "execution_count": null,
   "metadata": {},
   "outputs": [],
   "source": [
    "# %load ../python_folder/python_files/Median_Sale_Price_Visual_in_general"
   ]
  },
  {
   "cell_type": "markdown",
   "metadata": {},
   "source": [
    "#### Median Sale Price Regroup Visualization\n",
    "\n",
    "We created a new plot of 4 matched/grouped regions in our Median Sale Price dataframe to examine Median Sale Price from February 2012 to October 2019. In this plot, we observe that visually we can confirm that American University Park/Friendship Heights/Tenleytown, Chevy Chase-DC, Foxhall Village, and Southeast Chevy Chase should be reconfigured together due to similar housing price. We also observe Foxhall Village has some extreme values, so further analysis may be needed."
   ]
  },
  {
   "cell_type": "code",
   "execution_count": null,
   "metadata": {},
   "outputs": [],
   "source": [
    "# %load ../python_folder/python_files/Median_Sale_Price_Visual_regroup"
   ]
  },
  {
   "cell_type": "markdown",
   "metadata": {},
   "source": [
    "### Homes Sold Month-over-Month Hypothesis Tests\n",
    "\n",
    "We performed the following tests on our Homes Sold Month-over-Month dataframe:\n",
    "\n",
    "- Two-sample t-test\n",
    "- Kolmogorov-Smirnov test\n",
    "- Wilcoxon rank test\n",
    "- Mann-Whitney rank test\n",
    "- Kendall-Tau test"
   ]
  },
  {
   "cell_type": "code",
   "execution_count": null,
   "metadata": {},
   "outputs": [],
   "source": [
    "# %load ../python_folder/python_files/Homes_Sold_MoM_Test"
   ]
  },
  {
   "cell_type": "markdown",
   "metadata": {},
   "source": [
    "#### Homes Sold Month-over-Month P-value Test\n",
    "\n",
    "Using our previously mentioned Exhaustive Approach, since we used simultaneous hypothesis testing, there is a concern over significance level. To resolve this we define our significance level $\\alpha = .000001$ within each hypothesis test.\n",
    "\n",
    "After running a p-value test for our Homes Sold Month-over-Month dataframe, we determined that statistically we do not see that these 4 regions should be reconfigured based on Homes Sold Month-over-Month."
   ]
  },
  {
   "cell_type": "code",
   "execution_count": null,
   "metadata": {},
   "outputs": [],
   "source": [
    "# %load ../python_folder/python_files/Homes_Sold_MoM_P-value"
   ]
  },
  {
   "cell_type": "markdown",
   "metadata": {},
   "source": [
    "### Homes Sold Month-over-Month Data Visualizations\n",
    "\n",
    "We created a general plot of the first 8 regions in our Homes Sold Month-over-Month dataframe to examine Homes Sold Month-over-Month from February 2012 to October 2019. In this plot, we observe that visually, Homes Sold Month-over-Month behaves similarly among all regions."
   ]
  },
  {
   "cell_type": "code",
   "execution_count": null,
   "metadata": {},
   "outputs": [],
   "source": [
    "# %load ../python_folder/python_files/Homes_Sold_MoM_Visual_in_general"
   ]
  },
  {
   "cell_type": "markdown",
   "metadata": {},
   "source": [
    "#### Homes Sold Month-over-Month Regroup Visualization\n",
    "\n",
    "We created a new plot of 4 matched/grouped regions in our Homes Sold Month-over-Month dataframe to examine Homes Sold Month-over-Month from February 2012 to October 2019. In this plot, we observe that visually, we see these 4 regions are similar based on Homes Sold Month-over-Month."
   ]
  },
  {
   "cell_type": "code",
   "execution_count": null,
   "metadata": {},
   "outputs": [],
   "source": [
    "# %load ../python_folder/python_files/Homes_Sold_MoM_regroup"
   ]
  },
  {
   "cell_type": "markdown",
   "metadata": {},
   "source": [
    "### Inventory Month-over-Month Hypothesis Tests\n",
    "\n",
    "We performed the following tests on our Inventory Month-over-Month dataframe:\n",
    "\n",
    "- Two-sample t-test\n",
    "- Kolmogorov-Smirnov test\n",
    "- Wilcoxon rank test\n",
    "- Mann-Whitney rank test\n",
    "- Kendall-Tau test"
   ]
  },
  {
   "cell_type": "code",
   "execution_count": null,
   "metadata": {},
   "outputs": [],
   "source": [
    "# %load ../python_folder/python_files/Inventory_MoM_Test"
   ]
  },
  {
   "cell_type": "markdown",
   "metadata": {},
   "source": [
    "#### Inventory Month-over-Month P-value Test\n",
    "\n",
    "Using our previously mentioned Exhaustive Approach, since we used simultaneous hypothesis testing, there is a concern over significance level. To resolve this we define our significance level $\\alpha = .000001$ within each hypothesis test.\n",
    "\n",
    "After running a p-value test for our Inventory Month-over-Month dataframe, we determined that statistically we do not see that these 4 regions should be reconfigured based on Inventory Month-over-Month."
   ]
  },
  {
   "cell_type": "code",
   "execution_count": null,
   "metadata": {},
   "outputs": [],
   "source": [
    "# %load ../python_folder/python_files/Inventory_MoM_P-value"
   ]
  },
  {
   "cell_type": "markdown",
   "metadata": {},
   "source": [
    "### Inventory Month-over-Month Data Visualizations\n",
    "\n",
    "We created a general plot of the first 8 regions in our Inventory Month-over-Month dataframe to examine Inventory Month-over-Month from February 2012 to October 2019. In this plot, we observe that visually, Inventory Month-over-Month behaves similarly among all regions."
   ]
  },
  {
   "cell_type": "code",
   "execution_count": null,
   "metadata": {},
   "outputs": [],
   "source": [
    "# %load ../python_folder/python_files/Inventory_MoM_Visual_in_general"
   ]
  },
  {
   "cell_type": "markdown",
   "metadata": {},
   "source": [
    "#### Inventory Month-over-Month Regroup Visualization\n",
    "\n",
    "We created a new plot of 4 matched/grouped regions in our Inventory Month-over-Month dataframe to examine Inventory Month-over-Month from February 2012 to October 2019. In this plot, we observe that visually, we see these 4 regions are similar based on Inventory Month-over-Month."
   ]
  },
  {
   "cell_type": "code",
   "execution_count": null,
   "metadata": {},
   "outputs": [],
   "source": [
    "# %load ../python_folder/python_files/Inventory_MoM_Visual_regroup"
   ]
  },
  {
   "cell_type": "markdown",
   "metadata": {},
   "source": [
    "## Results and Conclusions\n",
    "\n",
    "As mentioned previously, we reconfigured regions based on (1) Wilcoxon rank test, (2) Mann-Whitney rank, and (3) Kendall Tau test. First, we confirm if regions are independent based on Kendall Tau test. Next, based on the testing statistics from Wilcoxon rank test, Mann-Whitney rank, we conclude that regions should be reconfigured. There are three housing statistics/features tested in our analysis: Median Home Sale Price, Homes Sold Month-over-Month, and Inventory Month-over-Month. \n",
    "\n",
    "Based on our analysis on Median Home Sale Price, our claim is reassured that some regions share the same home sale prices. For example, four regions should be reconfigured: (1) American University Park / Friendship Heights / Tenleytown, (2) Chevy Chase-DC (3) Foxhall Village, and (4) Southeast Chevy Chase. However, based on the analyses for the Homes Sold Month-over-Month and Inventory Month-over-Month, it is not statistically significant to show that there is a difference among these four regions. Therefore, we recommend that additional investigation be done there."
   ]
  },
  {
   "cell_type": "markdown",
   "metadata": {},
   "source": [
    "## What's Next\n",
    "\n",
    "#### Use Case\n",
    "We can use these initial tests and findings for further analysis in which we can predict future Washington DC housing market statistics and also see what influences Washington DC housing market characteristics over time.\n",
    "\n",
    "#### Next Steps\n",
    "We will use prior years’ data to build a predictive model in which we can predict the future home sale prices of the Washington DC housing market, based on regions."
   ]
  }
 ],
 "metadata": {
  "kernelspec": {
   "display_name": "Python 3",
   "language": "python",
   "name": "python3"
  },
  "language_info": {
   "codemirror_mode": {
    "name": "ipython",
    "version": 3
   },
   "file_extension": ".py",
   "mimetype": "text/x-python",
   "name": "python",
   "nbconvert_exporter": "python",
   "pygments_lexer": "ipython3",
   "version": "3.6.9"
  }
 },
 "nbformat": 4,
 "nbformat_minor": 2
}
