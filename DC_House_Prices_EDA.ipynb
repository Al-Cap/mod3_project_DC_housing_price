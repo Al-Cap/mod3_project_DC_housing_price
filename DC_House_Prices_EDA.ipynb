{
 "cells": [
  {
   "cell_type": "markdown",
   "metadata": {},
   "source": [
    "# Washington DC Housing Market Analysis "
   ]
  },
  {
   "cell_type": "markdown",
   "metadata": {},
   "source": [
    "# Exploratory Data Analysis"
   ]
  },
  {
   "cell_type": "markdown",
   "metadata": {},
   "source": [
    "## Project Goal\n",
    "\n",
    "The goal of this analysis is to explore Washington DC housing market data and gather initial findings. From these findings, we will reconfigure and group the Washington DC regions according to various housing statistics. Upon reconfiguration, these regions will then show similar/same sale prices and other housing characteristics. This analysis will be the basis of future evaluation including building predictive models to predict future home sale price and other notable housing market variables."
   ]
  },
  {
   "cell_type": "markdown",
   "metadata": {},
   "source": [
    "## Summary of Data\n",
    "\n",
    "This analysis uses housing market data from the time period of February 2012 to October 2019, including data for prices (median sale price, percentage of homes sold above list price, percentage of homes that had price drop, etc.), inventory (number of homes on market, new listings, months of supply, etc.), and sales (number of homes sold, median days on market, etc.).\n",
    "\n",
    "#### Data Source: https://www.redfin.com/blog/data-center"
   ]
  },
  {
   "cell_type": "markdown",
   "metadata": {},
   "source": [
    "### Library Import"
   ]
  },
  {
   "cell_type": "code",
   "execution_count": 1,
   "metadata": {},
   "outputs": [],
   "source": [
    "#Import libraries\n",
    "import pandas as pd\n",
    "import numpy as np\n",
    "import matplotlib.pyplot as plt\n",
    "import seaborn as sns\n",
    "%matplotlib inline"
   ]
  },
  {
   "cell_type": "markdown",
   "metadata": {},
   "source": [
    "## Data Import and Data Cleaning\n",
    "### Importing data and creating dataframes for each Washington DC region\n",
    "#### All required datasets are downloaded in our folder titled \"data\""
   ]
  },
  {
   "cell_type": "code",
   "execution_count": 2,
   "metadata": {},
   "outputs": [],
   "source": [
    "# set up name label to match each csv dataset\n",
    "lst = []\n",
    "for i in range(1,83):\n",
    "    location = 'data/'\n",
    "    ext = 'data_crosstab ({}).csv'.format(i)\n",
    "    final = location + ext\n",
    "    lst.append(final)\n",
    "    # print(final)\n",
    "\n",
    "# pull datasets from data folder and clean data such as $1,200K, 1.5%, etc. Change data type from object to float\n",
    "# create a new list: df_list to include all datasets\n",
    "df_list = []\n",
    "i = 0\n",
    "for location in lst:\n",
    "    df = pd.read_csv(location, encoding='utf-16', sep='\\t')\n",
    "    df = df.add_suffix('_'+str(i))\n",
    "    # reformat the median sale prices from strings to floats\n",
    "    #df[\"Median Sale Price\" + \"_\"+ str(i)] = df[\"Median Sale Price\" + \"_\"+ str(i)].str.replace(\"$\", \"\").str.replace(\",\", \"\").str.replace(\"K\",\"000\").str.replace(\"%\",\"\").astype(float)\n",
    "    for j in range(len(df.columns)-2):\n",
    "        if df[df.columns[j+2]].dtype == 'object':\n",
    "            df[df.columns[j+2]] = df[df.columns[j+2]].str.replace(\"$\", \"\").str.replace(\",\", \"\").str.replace(\"K\",\"000\").str.replace(\"%\",\"\").astype(float)\n",
    "        #df[df.columns[j+2]] = df[df.columns[j+2]].str.replace(\"$\", \"\").str.replace(\",\", \"\").str.replace(\"K\",\"000\").str.replace(\"%\",\"\").astype(float)\n",
    "    df_list.append(df)\n",
    "    i += 1\n",
    "\n",
    "#Overview of Washington DC housing market data\n",
    "df_list[0].head()"
   ]
  },
  {
   "cell_type": "code",
   "execution_count": null,
   "metadata": {},
   "outputs": [],
   "source": [
    "#review the column names \n",
    "df.columns"
   ]
  },
  {
   "cell_type": "code",
   "execution_count": null,
   "metadata": {},
   "outputs": [],
   "source": [
    "# Ensure the data types are appropriate for analysis\n",
    "df.info()"
   ]
  },
  {
   "cell_type": "markdown",
   "metadata": {},
   "source": [
    "### Creating dataframe containing median sale prices, Homes Sold MoM and Inventory MoM of each Washington DC region from Feb. 2012 to Oct. 2019 "
   ]
  },
  {
   "cell_type": "code",
   "execution_count": 5,
   "metadata": {},
   "outputs": [],
   "source": [
    "# Create datasets for median sale prices, Homes Sold MoM and Inventory MoM and save them in data folder\n",
    "\n",
    "\n",
    "#Creating dataframe containing Median Sale Price of each Washington DC region from Feb. 2012 to Oct. 2019 \n",
    "final_lst = []\n",
    "i = 0\n",
    "for df in df_list:\n",
    "    final_lst.append(df[\"Median Sale Price\" + \"_\"+ str(i)][0:93])\n",
    "    i += 1\n",
    "median_sale_price = pd.concat(final_lst, axis = 1)\n",
    "median_sale_price.to_csv('data/Median Sale Price.csv')\n",
    "\n",
    "#Overview of median_sale_price data\n",
    "#median_sale_price\n",
    "\n",
    "#Creating dataframe containing Homes Sold MoM of each Washington DC region from Feb. 2012 to Oct. 2019 \n",
    "final_lst_2 = []\n",
    "i = 0\n",
    "for df in df_list:\n",
    "    final_lst_2.append(df[\"Homes Sold MoM \" + \"_\"+ str(i)][0:93])\n",
    "    i += 1\n",
    "homes_sold_mom = pd.concat(final_lst_2, axis = 1)\n",
    "homes_sold_mom.to_csv('data/Homes Sold MoM.csv')\n",
    "\n",
    "#Overview of homes_sold_mom data\n",
    "#homes_sold_mom\n",
    "\n",
    "#Creating dataframe containing inventory MoM of each Washington DC region from Feb. 2012 to Oct. 2019 \n",
    "final_lst_3 = []\n",
    "i = 0\n",
    "for df in df_list:\n",
    "    final_lst_3.append(df[\"Inventory MoM \" + \"_\"+ str(i)][0:93])\n",
    "    i += 1\n",
    "inventory_mom = pd.concat(final_lst_3, axis = 1)\n",
    "inventory_mom.to_csv('data/Inventory MoM.csv')\n",
    "\n",
    "#Overview of inventory_mom data\n",
    "#inventory_mom"
   ]
  }
 ],
 "metadata": {
  "kernelspec": {
   "display_name": "Python 3",
   "language": "python",
   "name": "python3"
  },
  "language_info": {
   "codemirror_mode": {
    "name": "ipython",
    "version": 3
   },
   "file_extension": ".py",
   "mimetype": "text/x-python",
   "name": "python",
   "nbconvert_exporter": "python",
   "pygments_lexer": "ipython3",
   "version": "3.6.9"
  }
 },
 "nbformat": 4,
 "nbformat_minor": 2
}
