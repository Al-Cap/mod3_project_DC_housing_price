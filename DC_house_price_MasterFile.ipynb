{
 "cells": [
  {
   "cell_type": "markdown",
   "metadata": {},
   "source": [
    "# DC House Price "
   ]
  },
  {
   "cell_type": "markdown",
   "metadata": {},
   "source": [
    "#### Data source: https://www.redfin.com/blog/data-center"
   ]
  },
  {
   "cell_type": "code",
   "execution_count": null,
   "metadata": {},
   "outputs": [],
   "source": [
    "#Import libraries\n",
    "import pandas as pd\n",
    "import numpy as np\n",
    "import matplotlib.pyplot as plt\n",
    "import seaborn as sns\n",
    "%matplotlib inline"
   ]
  },
  {
   "cell_type": "markdown",
   "metadata": {},
   "source": [
    "## Data Import and Data Cleaning\n",
    "### Importing data and creating dataframes for each Washington DC region\n",
    "#### All required dataset are downloaded in data folder"
   ]
  },
  {
   "cell_type": "code",
   "execution_count": null,
   "metadata": {},
   "outputs": [],
   "source": [
    "# set up name lable to match each csv dataset\n",
    "lst = []\n",
    "for i in range(1,83):\n",
    "    location = 'data/'\n",
    "    ext = 'data_crosstab ({}).csv'.format(i)\n",
    "    final = location + ext\n",
    "    lst.append(final)\n",
    "    # print(final)\n",
    "\n",
    "# pull datasets from data folder and clean data such as $1,200K, 1.5%, etc. Change data type from object to float\n",
    "# create a new list: df_list to include all datasets\n",
    "df_list = []\n",
    "i = 0\n",
    "for location in lst:\n",
    "    df = pd.read_csv(location, encoding='utf-16', sep='\\t')\n",
    "    df = df.add_suffix('_'+str(i))\n",
    "    # reformat the median sale prices from strings to floats\n",
    "    #df[\"Median Sale Price\" + \"_\"+ str(i)] = df[\"Median Sale Price\" + \"_\"+ str(i)].str.replace(\"$\", \"\").str.replace(\",\", \"\").str.replace(\"K\",\"000\").str.replace(\"%\",\"\").astype(float)\n",
    "    for j in range(len(df.columns)-2):\n",
    "        if df[df.columns[j+2]].dtype == 'object':\n",
    "            df[df.columns[j+2]] = df[df.columns[j+2]].str.replace(\"$\", \"\").str.replace(\",\", \"\").str.replace(\"K\",\"000\").str.replace(\"%\",\"\").astype(float)\n",
    "        #df[df.columns[j+2]] = df[df.columns[j+2]].str.replace(\"$\", \"\").str.replace(\",\", \"\").str.replace(\"K\",\"000\").str.replace(\"%\",\"\").astype(float)\n",
    "    df_list.append(df)\n",
    "    i += 1\n",
    "# df_list[0].head()"
   ]
  },
  {
   "cell_type": "code",
   "execution_count": null,
   "metadata": {},
   "outputs": [],
   "source": [
    "# review the colnum names \n",
    "df.columns"
   ]
  },
  {
   "cell_type": "code",
   "execution_count": null,
   "metadata": {},
   "outputs": [],
   "source": [
    "# Ensure the data type is appropriate for analysis\n",
    "df.info()"
   ]
  },
  {
   "cell_type": "markdown",
   "metadata": {},
   "source": [
    "### Creating dataframe containing median sale prices, Homes Sold MoM and Inventory MoM of each Washington DC region from Feb. 2012 to Oct. 2019 "
   ]
  },
  {
   "cell_type": "code",
   "execution_count": null,
   "metadata": {},
   "outputs": [],
   "source": [
    "# Datasets for median sale prices, Homes Sold MoM and Inventory MoM are saved in data folder\n",
    "\n",
    "final_lst = []\n",
    "i = 0\n",
    "for df in df_list:\n",
    "    final_lst.append(df[\"Median Sale Price\" + \"_\"+ str(i)][0:93])\n",
    "    i += 1\n",
    "A = pd.concat(final_lst, axis = 1)\n",
    "A.to_csv('data/Median Sale Price.csv')\n",
    "#Creating dataframe containing homes sold MoM of each Washington DC region from Feb. 2012 to Oct. 2019 \n",
    "final_lst_2 = []\n",
    "i = 0\n",
    "for df in df_list:\n",
    "    final_lst_2.append(df[\"Homes Sold MoM \" + \"_\"+ str(i)][0:93])\n",
    "    i += 1\n",
    "B = pd.concat(final_lst_2, axis = 1)\n",
    "B.to_csv('data/Homes Sold MoM.csv')\n",
    "#Creating dataframe containing inventory MoM of each Washington DC region from Feb. 2012 to Oct. 2019 \n",
    "final_lst_3 = []\n",
    "i = 0\n",
    "for df in df_list:\n",
    "    final_lst_3.append(df[\"Inventory MoM \" + \"_\"+ str(i)][0:93])\n",
    "    i += 1\n",
    "C = pd.concat(final_lst_3, axis = 1)\n",
    "C.to_csv('data/Inventory MoM.csv')"
   ]
  },
  {
   "cell_type": "code",
   "execution_count": null,
   "metadata": {},
   "outputs": [],
   "source": [
    "# set up a time frame for visualization use\n",
    "time_frame = df_list[0]['Month of Period End_0'][0:93]"
   ]
  },
  {
   "cell_type": "code",
   "execution_count": null,
   "metadata": {},
   "outputs": [],
   "source": [
    "A\n",
    "B\n",
    "C"
   ]
  },
  {
   "cell_type": "markdown",
   "metadata": {},
   "source": [
    "#### Median Sale Price Hypothesis Tests"
   ]
  },
  {
   "cell_type": "code",
   "execution_count": null,
   "metadata": {},
   "outputs": [],
   "source": [
    "# A is the final dataset(panda.dataframe) with only median sale price for each region. Say n regions\n",
    "# Create a list combine_list containing any two regions out of n region: list(itertools.combinations(range(A.shape[1]), 2))\n",
    "# Run a loop to perform hypothesis testings: T test, Wilcoxon test, KS test, Mann-Whitney rank test \n",
    "\n",
    "import itertools\n",
    "from statsmodels.stats.weightstats import ttest_ind as t_test\n",
    "from scipy.stats import wilcoxon\n",
    "from scipy.stats import ks_2samp \n",
    "from scipy.stats import mannwhitneyu\n",
    "\n",
    " \n",
    "combine_list = list(itertools.combinations(range(A.shape[1]), 2))\n",
    "#statistic, p-value, degree of freedom for two-sample t test\n",
    "t_stat = []\n",
    "p_val_t = []\n",
    "df = []\n",
    "\n",
    "# statistic and p-value for Wilcoxon test \n",
    "non_stat = []\n",
    "p_val_wc = []\n",
    "\n",
    "# statistic and p-value for KS test \n",
    "ks_stat = []\n",
    "p_val_ks = []\n",
    "\n",
    "# statistic and p-value for Mann-Whitney rank test  test \n",
    "mu_stat = []\n",
    "p_val_mu = []\n",
    "\n",
    "for i in range(len(combine_list)):\n",
    "    temp1, temp2, temp3 = t_test(A.iloc[:,combine_list[i][0]], A.iloc[:,combine_list[i][1]], alternative = \"two-sided\", usevar = \"unequal\")\n",
    "    t_stat.append(float(temp1)) \n",
    "    p_val_t.append(float(temp2))\n",
    "    df.append(float(temp3))\n",
    "    temp4, temp5 = wilcoxon(A.iloc[:,combine_list[i][0]], A.iloc[:,combine_list[i][1]], alternative = \"two-sided\", zero_method = \"zsplit\")\n",
    "    non_stat.append(float(temp4))\n",
    "    p_val_wc.append(float(temp5)) \n",
    "    temp6, temp7 = ks_2samp(A.iloc[:,combine_list[i][0]], A.iloc[:,combine_list[i][1]], alternative = \"two-sided\", mode = 'asymp')\n",
    "    ks_stat.append(float(temp6))\n",
    "    p_val_ks.append(float(temp7))\n",
    "    temp8, temp9 = mannwhitneyu(A.iloc[:,combine_list[i][0]], A.iloc[:,combine_list[i][1]], alternative = \"two-sided\")\n",
    "    mu_stat.append(float(temp8))\n",
    "    p_val_mu.append(float(temp9))\n",
    "\n",
    "test_matrix = pd.DataFrame(list(zip(combine_list, t_stat, p_val_t, df, non_stat, p_val_wc, ks_stat, p_val_ks, mu_stat, p_val_mu)), \n",
    "               columns =['combinatory', 'Stat_ttest', 'p_ttest', 'df_ttest', 'Stat_wctest', 'p_wctest', 'Stat_kstest', 'p_kstest', 'Stat_mutest', 'p_mutest'])"
   ]
  },
  {
   "cell_type": "code",
   "execution_count": null,
   "metadata": {},
   "outputs": [],
   "source": [
    "test_matrix"
   ]
  },
  {
   "cell_type": "code",
   "execution_count": null,
   "metadata": {},
   "outputs": [],
   "source": [
    "# Create a function to detect the hypothesis testing results. 0: reject null, 1: fail to reject null\n",
    "def test_p_value(p = .05, name = 'ttest'):\n",
    "    name_list = []\n",
    "    for i in range(len(test_matrix)):\n",
    "        if test_matrix[\"p_\" + name][i] < p:\n",
    "            name_list.append(0) \n",
    "        else:\n",
    "            name_list.append(1)   \n",
    "    test_matrix['index_' + name] = name_list"
   ]
  },
  {
   "cell_type": "code",
   "execution_count": null,
   "metadata": {},
   "outputs": [],
   "source": [
    "test_p_value(p = .05, name = 'ttest')\n",
    "test_p_value(p = .05, name = 'wctest')\n",
    "test_p_value(p = .05, name = 'kstest')\n",
    "test_p_value(p = .05, name = 'mutest')\n",
    "#test_matrix\n",
    "#test_matrix.shape"
   ]
  },
  {
   "cell_type": "code",
   "execution_count": null,
   "metadata": {},
   "outputs": [],
   "source": [
    "# Save the final testing results in data folder\n",
    "test_matrix.to_csv('data/TM_Median Sale Price.csv')"
   ]
  },
  {
   "cell_type": "code",
   "execution_count": null,
   "metadata": {},
   "outputs": [],
   "source": [
    "# Find all regions with similar characteristic based on both Wilcoxon and Mann Whitney tests\n",
    "index_wc = test_matrix['index_wctest'] == 1\n",
    "index_mu = test_matrix['index_mutest'] == 1\n",
    "#test_matrix[index_wc]\n",
    "#test_matrix[index_mu]\n",
    "test_matrix[index_wc & index_mu]"
   ]
  },
  {
   "cell_type": "code",
   "execution_count": null,
   "metadata": {},
   "outputs": [],
   "source": [
    "df_list[1]['Region_1'][0]"
   ]
  },
  {
   "cell_type": "code",
   "execution_count": null,
   "metadata": {},
   "outputs": [],
   "source": [
    "df_list[18]['Region_18'][0]"
   ]
  },
  {
   "cell_type": "code",
   "execution_count": null,
   "metadata": {},
   "outputs": [],
   "source": [
    "df_list[35]['Region_35'][0]"
   ]
  },
  {
   "cell_type": "code",
   "execution_count": null,
   "metadata": {},
   "outputs": [],
   "source": [
    "df_list[65]['Region_65'][0]"
   ]
  },
  {
   "cell_type": "code",
   "execution_count": null,
   "metadata": {},
   "outputs": [],
   "source": [
    "# plot \n",
    "#plt.scatter(time_frame, A['Median Sale Price_1'])\n",
    "#plt.scatter(time_frame, A['Median Sale Price_81'])\n",
    "sns.lineplot(time_frame, A['Median Sale Price_1'])\n",
    "sns.lineplot(time_frame, A['Median Sale Price_18'])\n",
    "sns.lineplot(time_frame, A['Median Sale Price_35'])\n",
    "sns.lineplot(time_frame, A['Median Sale Price_65'])\n",
    "#sns.lineplot(df['Month of Period End_81'], A['Median Sale Price_81'])\n",
    "plt.legend()"
   ]
  },
  {
   "cell_type": "markdown",
   "metadata": {},
   "source": [
    "#### Homes Sold MoM Hypothesis Tests"
   ]
  },
  {
   "cell_type": "code",
   "execution_count": null,
   "metadata": {},
   "outputs": [],
   "source": [
    "# B is the final dataset(panda.dataframe) with only homes sold MoM for each region. Say n regions\n",
    "# Create a list combine_list containing any two regions out of n region: list(itertools.combinations(range(A.shape[1]), 2))\n",
    "# Run a loop to perform hypothesis testings: T test, Wilcoxon test, KS test, Mann-Whitney rank test \n",
    "\n",
    "import itertools\n",
    "from statsmodels.stats.weightstats import ttest_ind as t_test\n",
    "from scipy.stats import wilcoxon\n",
    "from scipy.stats import ks_2samp \n",
    "from scipy.stats import mannwhitneyu\n",
    "\n",
    "combine_list = list(itertools.combinations(range(B.shape[1]), 2))\n",
    "\n",
    "#statistic, p-value, degree of freedom for two-sample t test\n",
    "t_stat = []\n",
    "p_val_t = []\n",
    "df = []\n",
    "\n",
    "# statistic and p-value for Wilcoxon test \n",
    "non_stat = []\n",
    "p_val_wc = []\n",
    "\n",
    "# statistic and p-value for KS test \n",
    "ks_stat = []\n",
    "p_val_ks = []\n",
    "\n",
    "# statistic and p-value for Mann-Whitney rank test  test \n",
    "mu_stat = []\n",
    "p_val_mu = []\n",
    "\n",
    "for i in range(len(combine_list)):\n",
    "    temp1, temp2, temp3 = t_test(B.iloc[:,combine_list[i][0]], B.iloc[:,combine_list[i][1]], alternative = \"two-sided\", usevar = \"unequal\")\n",
    "    t_stat.append(float(temp1)) \n",
    "    p_val_t.append(float(temp2))\n",
    "    df.append(float(temp3))\n",
    "    temp4, temp5 = wilcoxon(B.iloc[:,combine_list[i][0]], B.iloc[:,combine_list[i][1]], alternative = \"two-sided\", zero_method = \"zsplit\")\n",
    "    non_stat.append(float(temp4))\n",
    "    p_val_wc.append(float(temp5)) \n",
    "    temp6, temp7 = ks_2samp(B.iloc[:,combine_list[i][0]], B.iloc[:,combine_list[i][1]], alternative = \"two-sided\", mode = 'asymp')\n",
    "    ks_stat.append(float(temp6))\n",
    "    p_val_ks.append(float(temp7))\n",
    "    temp8, temp9 = mannwhitneyu(B.iloc[:,combine_list[i][0]], B.iloc[:,combine_list[i][1]], alternative = \"two-sided\")\n",
    "    mu_stat.append(float(temp8))\n",
    "    p_val_mu.append(float(temp9))\n",
    "\n",
    "test_matrix_2 = pd.DataFrame(list(zip(combine_list, t_stat, p_val_t, df, non_stat, p_val_wc, ks_stat, p_val_ks, mu_stat, p_val_mu)), \n",
    "               columns =['combinatory', 'Stat_ttest', 'p_ttest', 'df_ttest', 'Stat_wctest', 'p_wctest', 'Stat_kstest', 'p_kstest', 'Stat_mutest', 'p_mutest'])"
   ]
  },
  {
   "cell_type": "code",
   "execution_count": null,
   "metadata": {},
   "outputs": [],
   "source": [
    "test_matrix_2"
   ]
  },
  {
   "cell_type": "code",
   "execution_count": null,
   "metadata": {},
   "outputs": [],
   "source": [
    "test_matrix_2['p_ttest'][0]"
   ]
  },
  {
   "cell_type": "code",
   "execution_count": null,
   "metadata": {},
   "outputs": [],
   "source": [
    "# Create a function to detect the hypothesis testing results. 0: reject null, 1: fail to reject null\n",
    "def test_p_value_2(p = .05, name = 'ttest'):\n",
    "    name_list = []\n",
    "    for i in range(len(test_matrix_2)):\n",
    "        if test_matrix_2[\"p_\" + name][i] < p:\n",
    "            name_list.append(0) \n",
    "        else:\n",
    "            name_list.append(1)   \n",
    "    test_matrix_2['index_' + name] = name_list"
   ]
  },
  {
   "cell_type": "code",
   "execution_count": null,
   "metadata": {},
   "outputs": [],
   "source": [
    "test_p_value_2(p = .05, name = 'ttest')\n",
    "test_p_value_2(p = .05, name = 'wctest')\n",
    "test_p_value_2(p = .05, name = 'kstest')\n",
    "test_p_value_2(p = .05, name = 'mutest')\n",
    "#(test_matrix_2.index_wctest == 1)"
   ]
  },
  {
   "cell_type": "code",
   "execution_count": null,
   "metadata": {},
   "outputs": [],
   "source": [
    "# Save the final testing results in data folder\n",
    "test_matrix_2.to_csv('data/TM_Homes Sold MoM.csv')"
   ]
  },
  {
   "cell_type": "markdown",
   "metadata": {},
   "source": [
    "#### Inventory MoM Hypothesis Tests"
   ]
  },
  {
   "cell_type": "code",
   "execution_count": null,
   "metadata": {},
   "outputs": [],
   "source": [
    "# C is the final dataset(panda.dataframe) with only inventory MoM for each region. Say n regions\n",
    "# Create a list combine_list containing any two regions out of n region: list(itertools.combinations(range(A.shape[1]), 2))\n",
    "# Run a loop to perform hypothesis testings: T test, Wilcoxon test, KS test, Mann-Whitney rank test \n",
    "import itertools\n",
    "from statsmodels.stats.weightstats import ttest_ind as t_test\n",
    "from scipy.stats import wilcoxon\n",
    "from scipy.stats import ks_2samp \n",
    "from scipy.stats import mannwhitneyu\n",
    "combine_list = list(itertools.combinations(range(C.shape[1]), 2))\n",
    "#statistic, p-value, degree of freedom for two-sample t test\n",
    "t_stat = []\n",
    "p_val_t = []\n",
    "df = []\n",
    "# statistic and p-value for Wilcoxon test \n",
    "non_stat = []\n",
    "p_val_wc = []\n",
    "# statistic and p-value for KS test \n",
    "ks_stat = []\n",
    "p_val_ks = []\n",
    "# statistic and p-value for Mann-Whitney rank test  test \n",
    "mu_stat = []\n",
    "p_val_mu = []\n",
    "for i in range(len(combine_list)):\n",
    "    temp1, temp2, temp3 = t_test(C.iloc[:,combine_list[i][0]], C.iloc[:,combine_list[i][1]], alternative = \"two-sided\", usevar = \"unequal\")\n",
    "    t_stat.append(float(temp1)) \n",
    "    p_val_t.append(float(temp2))\n",
    "    df.append(float(temp3))\n",
    "    temp4, temp5 = wilcoxon(C.iloc[:,combine_list[i][0]], C.iloc[:,combine_list[i][1]], alternative = \"two-sided\", zero_method = \"zsplit\")\n",
    "    non_stat.append(float(temp4))\n",
    "    p_val_wc.append(float(temp5)) \n",
    "    temp6, temp7 = ks_2samp(C.iloc[:,combine_list[i][0]], C.iloc[:,combine_list[i][1]], alternative = \"two-sided\", mode = 'asymp')\n",
    "    ks_stat.append(float(temp6))\n",
    "    p_val_ks.append(float(temp7))\n",
    "    temp8, temp9 = mannwhitneyu(C.iloc[:,combine_list[i][0]], C.iloc[:,combine_list[i][1]], alternative = \"two-sided\")\n",
    "    mu_stat.append(float(temp8))\n",
    "    p_val_mu.append(float(temp9))\n",
    "test_matrix_3 = pd.DataFrame(list(zip(combine_list, t_stat, p_val_t, df, non_stat, p_val_wc, ks_stat, p_val_ks, mu_stat, p_val_mu)), \n",
    "               columns =['combinatory', 'Stat_ttest', 'p_ttest', 'df_ttest', 'Stat_wctest', 'p_wctest', 'Stat_kstest', 'p_kstest', 'Stat_mutest', 'p_mutest'])"
   ]
  },
  {
   "cell_type": "code",
   "execution_count": null,
   "metadata": {},
   "outputs": [],
   "source": [
    "test_matrix_3"
   ]
  },
  {
   "cell_type": "code",
   "execution_count": null,
   "metadata": {},
   "outputs": [],
   "source": [
    "test_matrix_3['p_ttest'][0]"
   ]
  },
  {
   "cell_type": "code",
   "execution_count": null,
   "metadata": {},
   "outputs": [],
   "source": [
    "# Create a function to detect the hypothesis testing results. 0: reject null, 1: fail to reject null\n",
    "\n",
    "def test_p_value_3(p = .05, name = 'ttest'):\n",
    "    name_list = []\n",
    "    for i in range(len(test_matrix_3)):\n",
    "        if test_matrix_3[\"p_\" + name][i] < p:\n",
    "            name_list.append(0) \n",
    "        else:\n",
    "            name_list.append(1)   \n",
    "    test_matrix_3['index_' + name] = name_list\n",
    "test_p_value_3(p = .05, name = 'ttest')\n",
    "test_p_value_3(p = .05, name = 'wctest')\n",
    "test_p_value_3(p = .05, name = 'kstest')\n",
    "test_p_value_3(p = .05, name = 'mutest')\n",
    "test_matrix_3\n",
    "test_matrix_3.to_csv('data/TM_Inventory MoM.csv')"
   ]
  }
 ],
 "metadata": {
  "kernelspec": {
   "display_name": "Python 3",
   "language": "python",
   "name": "python3"
  },
  "language_info": {
   "codemirror_mode": {
    "name": "ipython",
    "version": 3
   },
   "file_extension": ".py",
   "mimetype": "text/x-python",
   "name": "python",
   "nbconvert_exporter": "python",
   "pygments_lexer": "ipython3",
   "version": "3.6.9"
  }
 },
 "nbformat": 4,
 "nbformat_minor": 2
}
